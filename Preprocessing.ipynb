{
 "cells": [
  {
   "cell_type": "code",
   "execution_count": 4,
   "metadata": {},
   "outputs": [
    {
     "data": {
      "text/plain": [
       "<module 'generisAPI.featuresExtraction' from 'notebooks\\\\generisAPI\\\\featuresExtraction.py'>"
      ]
     },
     "execution_count": 4,
     "metadata": {},
     "output_type": "execute_result"
    }
   ],
   "source": [
    "# importations\n",
    "import sys\n",
    "sys.path.append('notebooks')\n",
    "\n",
    "import numpy as np\n",
    "import pandas as pd\n",
    "from pyedflib import EdfReader\n",
    "import mne\n",
    "import EntropyHub\n",
    "\n",
    "import matplotlib.pyplot as plt\n",
    "import matplotlib.cm as cm\n",
    "from matplotlib.colors import Normalize\n",
    "from scipy.interpolate import PchipInterpolator,interp1d\n",
    "\n",
    "import joblib\n",
    "\n",
    "%matplotlib inline\n",
    "\n",
    "import seaborn as sns\n",
    "\n",
    "import copy\n",
    "import os\n",
    "import importlib\n",
    "\n",
    "import generisAPI\n",
    "importlib.reload(generisAPI)\n",
    "\n",
    "import generisAPI.file_operators as fp\n",
    "importlib.reload(generisAPI.file_operators)\n",
    "\n",
    "import generisAPI.data_cleaning as dcln\n",
    "importlib.reload(generisAPI.data_cleaning)\n",
    "\n",
    "import generisAPI.preprocessing as ppcn\n",
    "importlib.reload(generisAPI.preprocessing)\n",
    "\n",
    "import generisAPI.processing as pcn\n",
    "importlib.reload(generisAPI.processing)\n",
    "\n",
    "import generisAPI.audProcessing as audpcn\n",
    "importlib.reload(generisAPI.audProcessing)\n",
    "\n",
    "import generisAPI.plots as plots\n",
    "importlib.reload(generisAPI.plots)\n",
    "\n",
    "import generisAPI.fuzzEntropy as fuzzEnt\n",
    "importlib.reload(generisAPI.fuzzEntropy)\n",
    "\n",
    "import generisAPI.featuresExtraction as features\n",
    "importlib.reload(generisAPI.featuresExtraction)"
   ]
  },
  {
   "cell_type": "code",
   "execution_count": 5,
   "metadata": {},
   "outputs": [
    {
     "data": {
      "text/plain": [
       "19"
      ]
     },
     "execution_count": 5,
     "metadata": {},
     "output_type": "execute_result"
    }
   ],
   "source": [
    "# definitions\n",
    "electrodes=[\n",
    "    'Fp1','Fp2','F3','F4','C3',\n",
    "    'C4','P3','P4','O1','O2',\n",
    "    'F7','F8','T3','T4','T5',\n",
    "    'T6','Fz','Pz','Cz'\n",
    "    ]\n",
    "len(electrodes)"
   ]
  },
  {
   "cell_type": "code",
   "execution_count": 6,
   "metadata": {},
   "outputs": [
    {
     "name": "stdout",
     "output_type": "stream",
     "text": [
      "32\n"
     ]
    }
   ],
   "source": [
    "# compile eeg_data and annotations\n",
    "subjects_dataset_root_path = 'Acquired_Dataset/'\n",
    "\n",
    "data = fp.xtract_id_subject_info_dict(subjects_dataset_root_path)\n",
    "print(len(data))"
   ]
  },
  {
   "cell_type": "code",
   "execution_count": 7,
   "metadata": {},
   "outputs": [
    {
     "name": "stdout",
     "output_type": "stream",
     "text": [
      "[]\n"
     ]
    }
   ],
   "source": [
    "# assert eeg_data trials match marker trials\n",
    "\n",
    "trialMarkerLength = dcln.assertTrialsMarkersLength()\n",
    "trialMarkerLength.fit(data)\n",
    "print(trialMarkerLength.indices)\n",
    "clean_data = trialMarkerLength.transform(data,False)"
   ]
  },
  {
   "cell_type": "code",
   "execution_count": 8,
   "metadata": {},
   "outputs": [
    {
     "name": "stdout",
     "output_type": "stream",
     "text": [
      "{'1': {}, '16': {'rest1': [0, 1], 'arith': [0, 1], 'rest2': [0, 1], 'auditory': [0, 1]}, '2': {}, '20': {'rest1': [], 'arith': [], 'rest2': [], 'auditory': [0]}, '23': {'rest1': [], 'arith': [0], 'rest2': [0], 'auditory': [0]}, '3': {'rest1': [0, 1], 'arith': [0, 1], 'rest2': [0, 1], 'auditory': [0, 1]}, '32': {'rest1': [0, 1, 2], 'arith': [0, 1, 2], 'rest2': [0, 1, 2], 'auditory': [0, 1, 2]}, '4': {'rest1': [0, 1], 'arith': [0, 1], 'rest2': [0, 1, 2], 'auditory': [0, 1, 2]}, '5': {'rest1': [0, 1], 'arith': [0, 1], 'rest2': [0, 1], 'auditory': [0, 1]}, '6': {'rest1': [], 'arith': [], 'rest2': [], 'auditory': [0]}, '8': {'rest1': [0, 1], 'arith': [0, 1], 'rest2': [0, 1], 'auditory': [0, 1]}, '9': {'rest1': [0, 1], 'arith': [0, 1], 'rest2': [0, 1], 'auditory': [0, 1]}}\n"
     ]
    }
   ],
   "source": [
    "# check for null eeg_data\n",
    "\n",
    "null_data_checker = dcln.nullIndicesTracer()\n",
    "null_data_checker.fit(clean_data)\n",
    "null_data_checker.indices['1']={}\n",
    "null_data_checker.indices['2']={}\n",
    "print(null_data_checker.indices)\n",
    "clean_data = null_data_checker.transform(clean_data,True)"
   ]
  },
  {
   "cell_type": "code",
   "execution_count": 9,
   "metadata": {},
   "outputs": [],
   "source": [
    "#prerprocessing\n",
    "preprocess_method=[\n",
    "    [ppcn.channel_dropper,{'index':[19,20,21,22,23],'axis':0}],\n",
    "    [ppcn.filter,{'lfreq':75,'hfreq':45,'sfreq':200}],\n",
    "    [ppcn.filter,{'lfreq':100,'hfreq':None,'sfreq':200}],\n",
    "    # [ppcn.resampler,{'up':1,'down':1}],\n",
    "    [ppcn.baseline_corrector,{'with_std':False}]\n",
    "]\n",
    "\n",
    "preprocess_pipeline = ppcn.ppcn_pipeline(preprocess_method)\n",
    "\n",
    "mne.set_log_level('ERROR')\n",
    "clean_data = ppcn.all_subjects_preprocessor(\n",
    "    preprocess_pipeline,\n",
    "    clean_data\n",
    ")"
   ]
  },
  {
   "cell_type": "code",
   "execution_count": null,
   "metadata": {},
   "outputs": [],
   "source": []
  }
 ],
 "metadata": {
  "kernelspec": {
   "display_name": "Python 3",
   "language": "python",
   "name": "python3"
  },
  "language_info": {
   "codemirror_mode": {
    "name": "ipython",
    "version": 3
   },
   "file_extension": ".py",
   "mimetype": "text/x-python",
   "name": "python",
   "nbconvert_exporter": "python",
   "pygments_lexer": "ipython3",
   "version": "3.7.6"
  }
 },
 "nbformat": 4,
 "nbformat_minor": 4
}
